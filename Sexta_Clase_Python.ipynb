{
  "nbformat": 4,
  "nbformat_minor": 0,
  "metadata": {
    "colab": {
      "provenance": [],
      "authorship_tag": "ABX9TyP3K31MA8mtXJ3lCPBQOiBv",
      "include_colab_link": true
    },
    "kernelspec": {
      "name": "python3",
      "display_name": "Python 3"
    },
    "language_info": {
      "name": "python"
    }
  },
  "cells": [
    {
      "cell_type": "markdown",
      "metadata": {
        "id": "view-in-github",
        "colab_type": "text"
      },
      "source": [
        "<a href=\"https://colab.research.google.com/github/KemmerDesign/CienciaDatos/blob/main/Sexta_Clase_Python.ipynb\" target=\"_parent\"><img src=\"https://colab.research.google.com/assets/colab-badge.svg\" alt=\"Open In Colab\"/></a>"
      ]
    },
    {
      "cell_type": "markdown",
      "source": [
        "Sexta clase Python\n",
        "Había una tarea que era realizar una agenda, fue una calse a la que no vine  y no hable con nadie para saber que se tenia que hacer."
      ],
      "metadata": {
        "id": "jGfrGCZe_wfr"
      }
    },
    {
      "cell_type": "markdown",
      "source": [
        "Realizar con diccionarios una agenda telefonica usando diccionario, los metodos agregar, buscar, modificar y listar.\n",
        "\n",
        "Debe tener un menu, para poder trabajar, se debe poner una opcion adicional que sea guardar en un archivo plano con los datos del array o del diccionario."
      ],
      "metadata": {
        "id": "WsUesl6cAify"
      }
    },
    {
      "cell_type": "code",
      "execution_count": null,
      "metadata": {
        "id": "WUdj-uOL_vj6"
      },
      "outputs": [],
      "source": []
    },
    {
      "cell_type": "markdown",
      "source": [
        "**Tema archivo y excepciones**\n",
        "\n",
        "Persistencia de datos, manejo de archivos leerlos desde Python para operar la información.\n",
        "\n",
        "Por ende se debe manejar o usar bien las excepciones.\n",
        "\n",
        "Que se le puede hacer a un archivo:\n",
        "\n",
        "Escribirlo o actualizarlo -> Write (w)\n",
        "\n",
        "Leerlo -> Read (r)\n",
        "\n",
        "Abrirlo -> Open (o)\n",
        "\n",
        "Cerralo -> Close (c)\n",
        "\n",
        "\n",
        "\n",
        "```\n",
        "f = open(\"file.dat,\"w\")\n",
        "print(f)\n",
        "```\n",
        "\n",
        "\n"
      ],
      "metadata": {
        "id": "bouRnU3OAudV"
      }
    },
    {
      "cell_type": "code",
      "source": [
        "f = open(\"file.dat\",\"w\")\n",
        "print(f)"
      ],
      "metadata": {
        "colab": {
          "base_uri": "https://localhost:8080/"
        },
        "id": "FJ_BTQpzCC5a",
        "outputId": "1d2c57d6-cf21-4197-822a-64d5554434b9"
      },
      "execution_count": null,
      "outputs": [
        {
          "output_type": "stream",
          "name": "stdout",
          "text": [
            "<_io.TextIOWrapper name='file.dat' mode='w' encoding='UTF-8'>\n"
          ]
        }
      ]
    },
    {
      "cell_type": "markdown",
      "source": [
        "Vamos a escribir el archivo."
      ],
      "metadata": {
        "id": "uHwfZij-CjxQ"
      }
    },
    {
      "cell_type": "code",
      "source": [
        "f = open(\"file.dat\",\"w\")\n",
        "f.write(\"Este es un ejemplo de la manipulacion de archivos desde python\")\n",
        "print(f)\n",
        "#f.close()"
      ],
      "metadata": {
        "colab": {
          "base_uri": "https://localhost:8080/"
        },
        "id": "NnDckTphCoCA",
        "outputId": "150ae889-3410-49c0-c2ff-12226b0a5b81"
      },
      "execution_count": null,
      "outputs": [
        {
          "output_type": "stream",
          "name": "stdout",
          "text": [
            "<_io.TextIOWrapper name='file.dat' mode='w' encoding='UTF-8'>\n"
          ]
        }
      ]
    },
    {
      "cell_type": "markdown",
      "source": [
        "Ahora se puede leer el texto asignadolo a una variable.\n",
        "\n",
        "Se debe tener en cuenta la firma del metodo que invoca el archivo."
      ],
      "metadata": {
        "id": "netS61s9DFDh"
      }
    },
    {
      "cell_type": "code",
      "source": [
        "f = open(\"file.dat\",\"r\")\n",
        "print(f)\n",
        "texto = f.read()\n",
        "print(texto)\n",
        "f.close()"
      ],
      "metadata": {
        "colab": {
          "base_uri": "https://localhost:8080/"
        },
        "id": "3mwQx3kpDMwT",
        "outputId": "cba9f6a7-4402-4dce-c849-bb6c90ba0314"
      },
      "execution_count": null,
      "outputs": [
        {
          "output_type": "stream",
          "name": "stdout",
          "text": [
            "<_io.TextIOWrapper name='file.dat' mode='r' encoding='UTF-8'>\n",
            "Este es un ejemplo de la manipulacion de archivos desde python\n"
          ]
        }
      ]
    },
    {
      "cell_type": "markdown",
      "source": [
        "Usando saltos de linea para los textos."
      ],
      "metadata": {
        "id": "HVYI2RMJE7CS"
      }
    },
    {
      "cell_type": "code",
      "source": [
        "f = open(\"fileA.dat\", \"w\")\n",
        "f.write(\"Linea uno\\nLinea dos\\n\")\n",
        "f.close()\n",
        "f = open(\"fileA.dat\", \"r\")\n",
        "#texto = f.read()\n",
        "textoB = f.readlines()\n",
        "print(texto)\n",
        "print(textoB)"
      ],
      "metadata": {
        "colab": {
          "base_uri": "https://localhost:8080/"
        },
        "id": "BomNLmA7ECdw",
        "outputId": "bc904c80-40c2-4868-d74e-22502ebc8327"
      },
      "execution_count": null,
      "outputs": [
        {
          "output_type": "stream",
          "name": "stdout",
          "text": [
            "Linea uno\n",
            "Linea dos\n",
            "\n",
            "['Linea uno\\n', 'Linea dos\\n']\n"
          ]
        }
      ]
    },
    {
      "cell_type": "markdown",
      "source": [
        "**Ejercicio**\n",
        "\n",
        "Crear una funcion que reciba como parametro dos nombres de archivos, copia un archivo viejo a uno nuevo."
      ],
      "metadata": {
        "id": "OKytf3wbFXoH"
      }
    },
    {
      "cell_type": "code",
      "source": [
        "import os\n",
        "\n",
        "def validarSiEstaVacio(fileVal):\n",
        "  with open(fileVal,\"r\") as file:\n",
        "    file_size = os.path.getsize(fileVal)\n",
        "    if file_size == 0:\n",
        "      return False\n",
        "    else:\n",
        "      return True\n",
        "\n",
        "def copiarArchivo(oldFile,newFileCreate):\n",
        "  if validarSiEstaVacio(oldFile):\n",
        "    f = open(oldFile,\"r\")\n",
        "    a = open(newFileCreate,\"w\")\n",
        "    text = f.read()\n",
        "    a.write(text)\n",
        "    f.close()\n",
        "    a.close()\n",
        "    print(\"Operacion exitosa.\")\n",
        "  else:\n",
        "    print(\"Archivo vacio\")\n",
        "\n",
        "\n",
        "copiarArchivo(\"fileA.dat\",\"fileB.dat\")"
      ],
      "metadata": {
        "colab": {
          "base_uri": "https://localhost:8080/"
        },
        "id": "fxOfsJmhF0BZ",
        "outputId": "9b590cc1-5063-4b2d-fdec-c9c10c340dda"
      },
      "execution_count": null,
      "outputs": [
        {
          "output_type": "stream",
          "name": "stdout",
          "text": [
            "Operacion exitosa.\n"
          ]
        }
      ]
    },
    {
      "cell_type": "code",
      "source": [
        "f = open(\"fileB.dat\", \"a\")\n",
        "f.write(\"\\nOtra linea\")\n",
        "f.close()"
      ],
      "metadata": {
        "id": "0HzaWpUPKuTA"
      },
      "execution_count": null,
      "outputs": []
    }
  ]
}