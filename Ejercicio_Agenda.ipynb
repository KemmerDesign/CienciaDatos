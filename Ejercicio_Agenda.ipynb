{
  "nbformat": 4,
  "nbformat_minor": 0,
  "metadata": {
    "colab": {
      "provenance": [],
      "authorship_tag": "ABX9TyOIJ+DMBaEUJzxQ1jXgXnyx",
      "include_colab_link": true
    },
    "kernelspec": {
      "name": "python3",
      "display_name": "Python 3"
    },
    "language_info": {
      "name": "python"
    }
  },
  "cells": [
    {
      "cell_type": "markdown",
      "metadata": {
        "id": "view-in-github",
        "colab_type": "text"
      },
      "source": [
        "<a href=\"https://colab.research.google.com/github/KemmerDesign/CienciaDatos/blob/main/Ejercicio_Agenda.ipynb\" target=\"_parent\"><img src=\"https://colab.research.google.com/assets/colab-badge.svg\" alt=\"Open In Colab\"/></a>"
      ]
    },
    {
      "cell_type": "markdown",
      "source": [
        "***Ejercicio agenda de personas***\n",
        "\n",
        "Se debe realizar una agenda, que debe tener un menu con las siguientes opciones:\n",
        "\n",
        "\n",
        "\n",
        "1.   Consultar\n",
        "2.   Actualizar\n",
        "3.   Agregar\n",
        "4.   Eliminar\n",
        "5.   Descar datos en archivo plano\n"
      ],
      "metadata": {
        "id": "qpFHj_TzDbk7"
      }
    },
    {
      "cell_type": "markdown",
      "source": [
        "***Primer paso - Creando el menu***\n",
        "\n",
        "Voy a crear el menu como una funcion ajena al main principal:"
      ],
      "metadata": {
        "id": "D5jOpEAKEdUK"
      }
    },
    {
      "cell_type": "code",
      "execution_count": 79,
      "metadata": {
        "id": "FwoQJUP3DQ-7"
      },
      "outputs": [],
      "source": [
        "def optionMenu():\n",
        "  menu = \"\\n1.   Consultar\\n2.   Actualizar\\n3.   Agregar\\n4.   Eliminar\\n5.   Descar datos en archivo plano\\n6.   Salir del menu\\n\"\n",
        "  print(menu)\n",
        "  #acá se realiza el cast directo de la variable, lo que puede lanzar una excepción que mas adelante es manejada.\n",
        "  opcion = int(input(\"Ingrese la opcion que desea realizar (solo valores numericos): \"))\n",
        "  return opcion"
      ]
    },
    {
      "cell_type": "markdown",
      "source": [
        "***Segundo paso - Creando un diccionario con datos random***\n",
        "\n",
        "Voy a crear un menu con algunos datos cargados para poder empezat a operarlos, la forma de declarar un diccionario es de la siguiente manera:\n",
        "\n",
        "\n",
        "```\n",
        "agenda = {}\n",
        "```\n",
        "\n",
        "Los Brackets son la forma de hacer la declaración de diccionarios, hare la carga de los datos en una funcion para no tener el codigo tan compacto en el scope del main.\n",
        "\n",
        "Una manera practica de hacerlo es crear listas de nombres, apellidos y ciudades mas direcciones para que sea dinamica la creación de esta agenda.\n",
        "\n"
      ],
      "metadata": {
        "id": "bsxYfjXMHaT_"
      }
    },
    {
      "cell_type": "code",
      "source": [
        "import random\n",
        "def chargeDataSchedule():\n",
        "  # Lista de nombres\n",
        "  nombres = [\"Juan\", \"Ana\", \"Pedro\", \"María\", \"José\", \"Laura\", \"Carlos\", \"Sofía\", \"David\", \"Camila\",\n",
        "            \"Miguel\", \"Isabella\", \"Francisco\", \"Valentina\", \"Andrés\", \"Mariana\", \"Daniel\", \"Luciana\",\n",
        "            \"Alejandro\", \"Gabriela\"]\n",
        "\n",
        "  # Lista de apellidos\n",
        "  apellidos = [\"Pérez\", \"García\", \"López\", \"Martínez\", \"González\", \"Rodríguez\", \"Fernández\", \"Díaz\", \"Sánchez\", \"Romero\",\n",
        "            \"Navarro\", \"Castro\", \"Gutiérrez\", \"Jiménez\", \"Moreno\", \"Blanco\", \"Ramírez\", \"Ortiz\", \"Ruiz\", \"Cruz\"]\n",
        "\n",
        "  # Lista de ciudades\n",
        "  ciudades = [\"Bogotá\", \"Medellín\", \"Cali\", \"Barranquilla\", \"Cartagena\", \"Bucaramanga\", \"Manizales\", \"Pereira\", \"Ibagué\", \"Santa Marta\",\n",
        "            \"Cúcuta\", \"Soledad\", \"Bello\", \"Pasto\", \"Neiva\", \"Villavicencio\", \"Montería\", \"Popayán\", \"Sincelejo\", \"Valledupar\"]\n",
        "\n",
        "  # Generar 20 registros aleatorios\n",
        "  agenda = {}\n",
        "  for i in range(20):\n",
        "      nombre_aleatorio = random.choice(nombres) + \" \" + random.choice(apellidos)\n",
        "      direccion_aleatoria = random.choice(ciudades) + \", \" + str(random.randint(1, 999)) + \" - \" + random.choice([\"Calle\", \"Carrera\", \"Avenida\"])\n",
        "      agenda[nombre_aleatorio] = direccion_aleatoria\n",
        "  return agenda\n",
        "\n"
      ],
      "metadata": {
        "id": "G59Tnbs56Rtd"
      },
      "execution_count": 87,
      "outputs": []
    },
    {
      "cell_type": "markdown",
      "source": [
        "***Tercer paso -  creando funciones especificas de los menus***\n",
        "\n",
        "Voy a individualizar en funciones cada comportamiento del menu, para asi tenerlo organizado y posteriormente hacer un cambio de manera mas rapida."
      ],
      "metadata": {
        "id": "1ZXCC2bVOW4V"
      }
    },
    {
      "cell_type": "markdown",
      "source": [
        "*Consultar Agenda*"
      ],
      "metadata": {
        "id": "cdr6Y7xLOm6b"
      }
    },
    {
      "cell_type": "code",
      "source": [
        "def consultAgenda(agenda):\n",
        "  print(\"\\n\")\n",
        "  for nombre, direccion in agenda.items():\n",
        "    print(f\"{nombre}:\\t\\t\\t{direccion}\")"
      ],
      "metadata": {
        "id": "U7XI8_niNwPl"
      },
      "execution_count": 102,
      "outputs": []
    },
    {
      "cell_type": "markdown",
      "source": [
        "*Actualizar Diccionario - Bloque de codigo para actualizar el diccionario*"
      ],
      "metadata": {
        "id": "dqfeRml-wuLk"
      }
    },
    {
      "cell_type": "code",
      "source": [
        "def updateForName(agenda):\n",
        "  atributeToUpdate = str(input(\"Ingrese el nombre de la persona que se va a actualizar: \"))\n",
        "  if atributeToUpdate not in agenda:\n",
        "    print(\"Nombre no encontrado\")\n",
        "    return\n",
        "  newAtribute = str(input(\"Ingrese el nuevo nombre a actualizar: \"))\n",
        "  adressCurrentRegister = agenda[atributeToUpdate]\n",
        "  del agenda[atributeToUpdate]\n",
        "  agenda[newAtribute] = adressCurrentRegister\n",
        "  return agenda\n",
        "\n",
        "def updateForAdress(agenda):\n",
        "  atributeToUpdate = str(input(\"Ingrese el nombre de la persona que se va a actualizar: \"))\n",
        "  if atributeToUpdate not in agenda:\n",
        "    print(\"Nombre no encontrado\")\n",
        "    return\n",
        "  adressNewRegister = str(input(\"Ingrese la dirección nueva: \"))\n",
        "  agenda[atributeToUpdate] = adressNewRegister\n",
        "  return agenda\n",
        "\n",
        "def updateBothDataRegister(agenda):\n",
        "  atributeToUpdate = str(input(\"Ingrese el nombre de la persona que se va a actualizar: \"))\n",
        "  if atributeToUpdate not in agenda:\n",
        "    print(\"Nombre no encontrado\")\n",
        "    return\n",
        "  newAtribute = str(input(\"Ingrese el nuevo nombre a actualizar: \"))\n",
        "  adressNewRegister = str(input(\"Ingrese la dirección nueva: \"))\n",
        "  del agenda[atributeToUpdate]\n",
        "  agenda[newAtribute] = adressNewRegister\n",
        "  return agenda\n",
        "\n",
        "def updateRegister(agenda):\n",
        "  try:\n",
        "    option = int(input(\"¿Qué desea actualizar?\\n1. Nombre\\n2. Dirección\\n3. Ambos\\n\"))\n",
        "    if(option >= 1 and option <= 3):\n",
        "      if(option == 1):\n",
        "        agenda = updateForName(agenda)\n",
        "        return agenda\n",
        "      elif(option == 2):\n",
        "        agenda = updateForAdress(agenda)\n",
        "        return agenda\n",
        "      else:\n",
        "        agenda = updateBothDataRegister(agenda)\n",
        "        return agenda\n",
        "    else:\n",
        "      print(\"Opcion ingresada no es valida.\")\n",
        "  except ValueError:\n",
        "    print(\"Los caracteres ingresados no son numericos, intentelos de nuevo.....\")\n",
        "\n",
        "\n"
      ],
      "metadata": {
        "id": "jVV6mw7JktD-"
      },
      "execution_count": 89,
      "outputs": []
    },
    {
      "cell_type": "markdown",
      "source": [
        "*Agregando usuarios*"
      ],
      "metadata": {
        "id": "E6VnAvlIw8nS"
      }
    },
    {
      "cell_type": "code",
      "source": [
        "def addDataToAgenda(agenda):\n",
        "  newDataNameAgenda = str(input(\"Ingresar el nombre que desea agregar en la agenda: \"))\n",
        "  newDataAdressAgenda = str(input(\"Ingresar la dirección que desea agregar en la agenda del nuevo usuario: \"))\n",
        "  agenda[newDataNameAgenda] = newDataAdressAgenda\n",
        "  if newDataNameAgenda in agenda:\n",
        "    print(\"No se pudo agregar el usuario a la agenda, intentelo de nuevo\")\n",
        "    return agenda\n",
        "  print(\"Operacion exitosa\")\n",
        "  return agenda"
      ],
      "metadata": {
        "id": "7e8wuBThxAH4"
      },
      "execution_count": 90,
      "outputs": []
    },
    {
      "cell_type": "markdown",
      "source": [
        "*Elimnando usuarios*"
      ],
      "metadata": {
        "id": "CmmgN8nEzOeB"
      }
    },
    {
      "cell_type": "code",
      "source": [
        "def removeDataToAgenda(agenda):\n",
        "  newDataNameAgenda = str(input(\"Ingresar el nombre que desea remover de la agenda: \"))\n",
        "  if newDataNameAgenda in agenda:\n",
        "    print(\"No se pudo agregar el usuario a la agenda, intentelo de nuevo\")\n",
        "    return agenda\n",
        "  del agenda[newDataNameAgenda]\n",
        "  if newDataNameAgenda not in agenda:\n",
        "    print(\"Se elimino correctamente los datos.\")\n",
        "  else:\n",
        "    print(\"El registro aun sigue en la agenda.\")\n",
        "  return agenda"
      ],
      "metadata": {
        "id": "EkAs35UEzUwv"
      },
      "execution_count": 91,
      "outputs": []
    },
    {
      "cell_type": "markdown",
      "source": [
        "*Pasando la informacion a un archivo de texto plano y guardandolo en el directorio local*\n"
      ],
      "metadata": {
        "id": "GBv6LFRv0-Ne"
      }
    },
    {
      "cell_type": "code",
      "source": [
        "def plainTextDataAgenda(agenda):\n",
        "  f = open(\"agenda.dat\",\"w\")\n",
        "  for nombre,direccion in agenda.items():\n",
        "    f.write(f\"{nombre}:   {direccion}\\n\")\n",
        "  print(\"La agenda se creo correctamente.\")\n"
      ],
      "metadata": {
        "id": "BuQqnAtP1E59"
      },
      "execution_count": 95,
      "outputs": []
    },
    {
      "cell_type": "markdown",
      "source": [
        "***Cuarto Paso - Generando las consultas solicitadas***\n",
        "\n",
        "Acá ya se generara todas las consultas que están en el menu propuestas."
      ],
      "metadata": {
        "id": "tamdk2cMJo-I"
      }
    },
    {
      "cell_type": "code",
      "source": [
        "\n",
        "menuActivated = True\n",
        "agenda =  chargeDataSchedule()\n",
        "while(menuActivated):\n",
        "  #El try en este caso maneja la posible excepción lanzada en el caso que el usuario\n",
        "  #ingrese caracteres diferentes a numeros.\n",
        "  try:\n",
        "    optMenu = optionMenu()\n",
        "    if(optMenu >= 1 and optMenu <= 6):\n",
        "      if(optMenu == 1):\n",
        "        consultAgenda(agenda)\n",
        "      elif(optMenu == 2):\n",
        "        agenda = updateRegister(agenda)\n",
        "      elif(optMenu == 3):\n",
        "        agenda = addDataToAgenda(agenda)\n",
        "      elif(optMenu == 4):\n",
        "        agenda = removeDataToAgenda(agenda)\n",
        "      elif(optMenu == 5):\n",
        "        plainTextDataAgenda(agenda)\n",
        "        print(\"Archivo Creado\")\n",
        "      elif(optMenu == 6):\n",
        "        print(\"\\n\\n..........Gracias por usar el software..........\\n\\n\")\n",
        "        menuActivated = False\n",
        "        break\n",
        "    else:\n",
        "      print(\"Opcion ingresada no permitida.\")\n",
        "  except ValueError:\n",
        "    print(\"\\n\\nLos valores ingresados no son numericos.\\n\\n\")\n",
        "\n",
        "\n"
      ],
      "metadata": {
        "id": "bD_lWjFXKC5i"
      },
      "execution_count": null,
      "outputs": []
    }
  ]
}